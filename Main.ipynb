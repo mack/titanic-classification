{
 "cells": [
  {
   "cell_type": "code",
   "execution_count": 35,
   "metadata": {},
   "outputs": [],
   "source": [
    "import pandas as pd\n",
    "import numpy as np\n",
    "from sklearn.preprocessing import OneHotEncoder, LabelEncoder\n",
    "from sklearn.decomposition import PCA\n",
    "import plotly\n",
    "import plotly.figure_factory as ff"
   ]
  },
  {
   "cell_type": "code",
   "execution_count": 44,
   "metadata": {},
   "outputs": [
    {
     "name": "stdout",
     "output_type": "stream",
     "text": [
      "891\n",
      "     Survived  Pclass     Sex   Age  SibSp  Parch      Fare Cabin\n",
      "0           0       3    male  22.0      1      0    7.2500   NaN\n",
      "1           1       1  female  38.0      1      0   71.2833     C\n",
      "2           1       3  female  26.0      0      0    7.9250   NaN\n",
      "3           1       1  female  35.0      1      0   53.1000     C\n",
      "4           0       3    male  35.0      0      0    8.0500   NaN\n",
      "5           0       3    male   NaN      0      0    8.4583   NaN\n",
      "6           0       1    male  54.0      0      0   51.8625     E\n",
      "7           0       3    male   2.0      3      1   21.0750   NaN\n",
      "8           1       3  female  27.0      0      2   11.1333   NaN\n",
      "9           1       2  female  14.0      1      0   30.0708   NaN\n",
      "10          1       3  female   4.0      1      1   16.7000     G\n",
      "11          1       1  female  58.0      0      0   26.5500     C\n",
      "12          0       3    male  20.0      0      0    8.0500   NaN\n",
      "13          0       3    male  39.0      1      5   31.2750   NaN\n",
      "14          0       3  female  14.0      0      0    7.8542   NaN\n",
      "15          1       2  female  55.0      0      0   16.0000   NaN\n",
      "16          0       3    male   2.0      4      1   29.1250   NaN\n",
      "17          1       2    male   NaN      0      0   13.0000   NaN\n",
      "18          0       3  female  31.0      1      0   18.0000   NaN\n",
      "19          1       3  female   NaN      0      0    7.2250   NaN\n",
      "20          0       2    male  35.0      0      0   26.0000   NaN\n",
      "21          1       2    male  34.0      0      0   13.0000     D\n",
      "22          1       3  female  15.0      0      0    8.0292   NaN\n",
      "23          1       1    male  28.0      0      0   35.5000     A\n",
      "24          0       3  female   8.0      3      1   21.0750   NaN\n",
      "25          1       3  female  38.0      1      5   31.3875   NaN\n",
      "26          0       3    male   NaN      0      0    7.2250   NaN\n",
      "27          0       1    male  19.0      3      2  263.0000     C\n",
      "28          1       3  female   NaN      0      0    7.8792   NaN\n",
      "29          0       3    male   NaN      0      0    7.8958   NaN\n",
      "..        ...     ...     ...   ...    ...    ...       ...   ...\n",
      "861         0       2    male  21.0      1      0   11.5000   NaN\n",
      "862         1       1  female  48.0      0      0   25.9292     D\n",
      "863         0       3  female   NaN      8      2   69.5500   NaN\n",
      "864         0       2    male  24.0      0      0   13.0000   NaN\n",
      "865         1       2  female  42.0      0      0   13.0000   NaN\n",
      "866         1       2  female  27.0      1      0   13.8583   NaN\n",
      "867         0       1    male  31.0      0      0   50.4958     A\n",
      "868         0       3    male   NaN      0      0    9.5000   NaN\n",
      "869         1       3    male   4.0      1      1   11.1333   NaN\n",
      "870         0       3    male  26.0      0      0    7.8958   NaN\n",
      "871         1       1  female  47.0      1      1   52.5542     D\n",
      "872         0       1    male  33.0      0      0    5.0000     B\n",
      "873         0       3    male  47.0      0      0    9.0000   NaN\n",
      "874         1       2  female  28.0      1      0   24.0000   NaN\n",
      "875         1       3  female  15.0      0      0    7.2250   NaN\n",
      "876         0       3    male  20.0      0      0    9.8458   NaN\n",
      "877         0       3    male  19.0      0      0    7.8958   NaN\n",
      "878         0       3    male   NaN      0      0    7.8958   NaN\n",
      "879         1       1  female  56.0      0      1   83.1583     C\n",
      "880         1       2  female  25.0      0      1   26.0000   NaN\n",
      "881         0       3    male  33.0      0      0    7.8958   NaN\n",
      "882         0       3  female  22.0      0      0   10.5167   NaN\n",
      "883         0       2    male  28.0      0      0   10.5000   NaN\n",
      "884         0       3    male  25.0      0      0    7.0500   NaN\n",
      "885         0       3  female  39.0      0      5   29.1250   NaN\n",
      "886         0       2    male  27.0      0      0   13.0000   NaN\n",
      "887         1       1  female  19.0      0      0   30.0000     B\n",
      "888         0       3  female   NaN      1      2   23.4500   NaN\n",
      "889         1       1    male  26.0      0      0   30.0000     C\n",
      "890         0       3    male  32.0      0      0    7.7500   NaN\n",
      "\n",
      "[891 rows x 8 columns]\n"
     ]
    }
   ],
   "source": [
    "# import data \n",
    "test = pd.read_csv('include/test.csv')\n",
    "train = pd.read_csv('include/train.csv')\n",
    "\n",
    "def preprocess_data(dataframe):\n",
    "    # drop unneeded columns\n",
    "    dataframe.drop(dataframe.columns[[0, 3, 8, 11]], axis=1, inplace=True)\n",
    "    # Get cabin letter \n",
    "#     cabins = ['A', 'B', 'C', 'D', 'E', 'F', 'T', 'G']\n",
    "#     dataframe['Cabin'] = dataframe['Cabin'].map(lambda x: substrings_in_string(x, cabins))\n",
    "    print(dataframe.shape[0])\n",
    "#     enc = LabelEncoder()\n",
    "#     dataframe['Cabin'] = enc.fit_transform(dataframe['Cabin'])\n",
    "#     dataframe['Sex'] = enc.fit_transform(dataframe['Sex'])\n",
    "    return dataframe\n",
    "    \n",
    "    \n",
    "# taken from \n",
    "# https://triangleinequality.wordpress.com/2013/09/08/basic-feature-engineering-with-the-titanic-data/\n",
    "def substrings_in_string(big_string, substrings):\n",
    "    for substring in substrings:\n",
    "        if str(big_string).find(substring) != -1:\n",
    "            return substring\n",
    "    return np.nan\n",
    "\n",
    "\n",
    "train = preprocess_data(train)\n",
    "print(train)\n",
    "# pca = PCA(n_components = 2)\n",
    "# pca.fit(train)"
   ]
  },
  {
   "cell_type": "code",
   "execution_count": null,
   "metadata": {
    "collapsed": true
   },
   "outputs": [],
   "source": []
  }
 ],
 "metadata": {
  "kernelspec": {
   "display_name": "Python 3",
   "language": "python",
   "name": "python3"
  },
  "language_info": {
   "codemirror_mode": {
    "name": "ipython",
    "version": 3
   },
   "file_extension": ".py",
   "mimetype": "text/x-python",
   "name": "python",
   "nbconvert_exporter": "python",
   "pygments_lexer": "ipython3",
   "version": "3.6.1"
  }
 },
 "nbformat": 4,
 "nbformat_minor": 2
}
