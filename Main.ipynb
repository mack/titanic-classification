{
 "cells": [
  {
   "cell_type": "code",
   "execution_count": 35,
   "metadata": {},
   "outputs": [],
   "source": [
    "import pandas as pd\n",
    "import numpy as np\n",
    "from sklearn.preprocessing import OneHotEncoder, LabelEncoder\n",
    "from sklearn.decomposition import PCA\n",
    "import plotly\n",
    "import plotly.figure_factory as ff"
   ]
  },
  {
   "cell_type": "code",
   "execution_count": 46,
   "metadata": {},
   "outputs": [
    {
     "name": "stdout",
     "output_type": "stream",
     "text": [
      "177\n",
      "     Survived  Pclass     Sex   Age  SibSp  Parch      Fare\n",
      "0           0       3    male  22.0      1      0    7.2500\n",
      "1           1       1  female  38.0      1      0   71.2833\n",
      "2           1       3  female  26.0      0      0    7.9250\n",
      "3           1       1  female  35.0      1      0   53.1000\n",
      "4           0       3    male  35.0      0      0    8.0500\n",
      "5           0       3    male   NaN      0      0    8.4583\n",
      "6           0       1    male  54.0      0      0   51.8625\n",
      "7           0       3    male   2.0      3      1   21.0750\n",
      "8           1       3  female  27.0      0      2   11.1333\n",
      "9           1       2  female  14.0      1      0   30.0708\n",
      "10          1       3  female   4.0      1      1   16.7000\n",
      "11          1       1  female  58.0      0      0   26.5500\n",
      "12          0       3    male  20.0      0      0    8.0500\n",
      "13          0       3    male  39.0      1      5   31.2750\n",
      "14          0       3  female  14.0      0      0    7.8542\n",
      "15          1       2  female  55.0      0      0   16.0000\n",
      "16          0       3    male   2.0      4      1   29.1250\n",
      "17          1       2    male   NaN      0      0   13.0000\n",
      "18          0       3  female  31.0      1      0   18.0000\n",
      "19          1       3  female   NaN      0      0    7.2250\n",
      "20          0       2    male  35.0      0      0   26.0000\n",
      "21          1       2    male  34.0      0      0   13.0000\n",
      "22          1       3  female  15.0      0      0    8.0292\n",
      "23          1       1    male  28.0      0      0   35.5000\n",
      "24          0       3  female   8.0      3      1   21.0750\n",
      "25          1       3  female  38.0      1      5   31.3875\n",
      "26          0       3    male   NaN      0      0    7.2250\n",
      "27          0       1    male  19.0      3      2  263.0000\n",
      "28          1       3  female   NaN      0      0    7.8792\n",
      "29          0       3    male   NaN      0      0    7.8958\n",
      "..        ...     ...     ...   ...    ...    ...       ...\n",
      "861         0       2    male  21.0      1      0   11.5000\n",
      "862         1       1  female  48.0      0      0   25.9292\n",
      "863         0       3  female   NaN      8      2   69.5500\n",
      "864         0       2    male  24.0      0      0   13.0000\n",
      "865         1       2  female  42.0      0      0   13.0000\n",
      "866         1       2  female  27.0      1      0   13.8583\n",
      "867         0       1    male  31.0      0      0   50.4958\n",
      "868         0       3    male   NaN      0      0    9.5000\n",
      "869         1       3    male   4.0      1      1   11.1333\n",
      "870         0       3    male  26.0      0      0    7.8958\n",
      "871         1       1  female  47.0      1      1   52.5542\n",
      "872         0       1    male  33.0      0      0    5.0000\n",
      "873         0       3    male  47.0      0      0    9.0000\n",
      "874         1       2  female  28.0      1      0   24.0000\n",
      "875         1       3  female  15.0      0      0    7.2250\n",
      "876         0       3    male  20.0      0      0    9.8458\n",
      "877         0       3    male  19.0      0      0    7.8958\n",
      "878         0       3    male   NaN      0      0    7.8958\n",
      "879         1       1  female  56.0      0      1   83.1583\n",
      "880         1       2  female  25.0      0      1   26.0000\n",
      "881         0       3    male  33.0      0      0    7.8958\n",
      "882         0       3  female  22.0      0      0   10.5167\n",
      "883         0       2    male  28.0      0      0   10.5000\n",
      "884         0       3    male  25.0      0      0    7.0500\n",
      "885         0       3  female  39.0      0      5   29.1250\n",
      "886         0       2    male  27.0      0      0   13.0000\n",
      "887         1       1  female  19.0      0      0   30.0000\n",
      "888         0       3  female   NaN      1      2   23.4500\n",
      "889         1       1    male  26.0      0      0   30.0000\n",
      "890         0       3    male  32.0      0      0    7.7500\n",
      "\n",
      "[891 rows x 7 columns]\n"
     ]
    }
   ],
   "source": [
    "# import data \n",
    "test = pd.read_csv('include/test.csv')\n",
    "train = pd.read_csv('include/train.csv')\n",
    "\n",
    "def preprocess_data(dataframe):\n",
    "    # drop unneeded columns\n",
    "    dataframe.drop(dataframe.columns[[0, 3, 8, 10, 11]], axis=1, inplace=True)\n",
    "    # Get cabin letter \n",
    "#     cabins = ['A', 'B', 'C', 'D', 'E', 'F', 'T', 'G']\n",
    "#     dataframe['Cabin'] = dataframe['Cabin'].map(lambda x: substrings_in_string(x, cabins))\n",
    "    print(dataframe.shape[0] - dataframe.dropna().shape[0])\n",
    "#     enc = LabelEncoder()\n",
    "#     dataframe['Cabin'] = enc.fit_transform(dataframe['Cabin'])\n",
    "#     dataframe['Sex'] = enc.fit_transform(dataframe['Sex'])\n",
    "    return dataframe\n",
    "    \n",
    "    \n",
    "# taken from \n",
    "# https://triangleinequality.wordpress.com/2013/09/08/basic-feature-engineering-with-the-titanic-data/\n",
    "def substrings_in_string(big_string, substrings):\n",
    "    for substring in substrings:\n",
    "        if str(big_string).find(substring) != -1:\n",
    "            return substring\n",
    "    return np.nan\n",
    "\n",
    "\n",
    "train = preprocess_data(train)\n",
    "print(train)\n",
    "# pca = PCA(n_components = 2)\n",
    "# pca.fit(train)"
   ]
  },
  {
   "cell_type": "code",
   "execution_count": null,
   "metadata": {
    "collapsed": true
   },
   "outputs": [],
   "source": []
  }
 ],
 "metadata": {
  "kernelspec": {
   "display_name": "Python 3",
   "language": "python",
   "name": "python3"
  },
  "language_info": {
   "codemirror_mode": {
    "name": "ipython",
    "version": 3
   },
   "file_extension": ".py",
   "mimetype": "text/x-python",
   "name": "python",
   "nbconvert_exporter": "python",
   "pygments_lexer": "ipython3",
   "version": "3.6.1"
  }
 },
 "nbformat": 4,
 "nbformat_minor": 2
}
