{
 "cells": [
  {
   "cell_type": "code",
   "execution_count": 1,
   "metadata": {
    "collapsed": true
   },
   "outputs": [],
   "source": [
    "import pandas as pd\n",
    "import numpy as np\n",
    "from sklearn.preprocessing import OneHotEncoder, LabelEncoder, StandardScaler \n",
    "from sklearn.decomposition import PCA\n",
    "from sklearn.ensemble import RandomForestClassifier\n",
    "from sklearn.metrics import accuracy_score\n",
    "import plotly\n",
    "from plotly.graph_objs import *\n",
    "import plotly.figure_factory as ff"
   ]
  },
  {
   "cell_type": "code",
   "execution_count": 2,
   "metadata": {},
   "outputs": [
    {
     "name": "stdout",
     "output_type": "stream",
     "text": [
      "(891, 7)\n"
     ]
    }
   ],
   "source": [
    "# import data \n",
    "test = pd.read_csv('include/test.csv')\n",
    "train = pd.read_csv('include/train.csv')\n",
    "\n",
    "\n",
    "def preprocess_data(dataframe):\n",
    "    # drop unneeded columns\n",
    "    dataframe.drop(dataframe.columns[[0, 3, 8, 10, 11]], axis=1, inplace=True)\n",
    "    # Get cabin letter \n",
    "#     cabins = ['A', 'B', 'C', 'D', 'E', 'F', 'T', 'G']\n",
    "#     dataframe['Cabin'] = dataframe['Cabin'].map(lambda x: substrings_in_string(x, cabins))\n",
    "#     print(dataframe.shape[0] - dataframe.dropna().shape[0])\n",
    "    enc = LabelEncoder()\n",
    "# #     dataframe['Cabin'] = enc.fit_transform(dataframe['Cabin'])\n",
    "    dataframe['Sex'] = enc.fit_transform(dataframe['Sex'])\n",
    "#     dataframe['Sex'].fillna(0, inplace=True)\n",
    "#     dataframe['Age'].fillna(0, inplace=True)\n",
    "    print(dataframe.shape)\n",
    "    dataframe.dropna(inplace=True)\n",
    "    survived = dataframe['Survived']\n",
    "    dataframe.drop(['Survived'], axis=1, inplace=True)\n",
    "#     dataframe.drop(['Survived'], axis=1, inplace=True)\n",
    "    return dataframe, survived\n",
    "    \n",
    "    \n",
    "# taken from \n",
    "# https://triangleinequality.wordpress.com/2013/09/08/basic-feature-engineering-with-the-titanic-data/\n",
    "def substrings_in_string(big_string, substrings):\n",
    "    for substring in substrings:\n",
    "        if str(big_string).find(substring) != -1:\n",
    "            return substring\n",
    "    return np.nan\n",
    "\n",
    "train, survived = preprocess_data(train)\n",
    "train['Age'] = StandardScaler().fit_transform(train['Age'].values.reshape(-1, 1))\n",
    "train['Fare'] = StandardScaler().fit_transform(train['Fare'].values.reshape(-1, 1))\n",
    "pca = PCA(n_components = 2)\n",
    "train_2d = pca.fit_transform(train)"
   ]
  },
  {
   "cell_type": "code",
   "execution_count": 3,
   "metadata": {},
   "outputs": [
    {
     "name": "stdout",
     "output_type": "stream",
     "text": [
      "(714, 6)\n",
      "(714,)\n",
      "0.97\n"
     ]
    }
   ],
   "source": [
    "print(train.shape)\n",
    "print(survived.shape)\n",
    "clf = RandomForestClassifier(n_jobs=2, random_state=0)\n",
    "clf.fit(train[:600], survived[:600])\n",
    "predictions = clf.predict(train[:600])\n",
    "accuracy = accuracy_score(survived[:600], predictions)\n",
    "print(accuracy)"
   ]
  },
  {
   "cell_type": "code",
   "execution_count": 4,
   "metadata": {},
   "outputs": [],
   "source": [
    "\n",
    "passengerId = test['PassengerId']"
   ]
  },
  {
   "cell_type": "code",
   "execution_count": 5,
   "metadata": {},
   "outputs": [],
   "source": [
    "# preprocess test data\n",
    "test.drop(test.columns[[0, 2, 7, 9, 10]], axis=1, inplace=True)\n",
    "enc = LabelEncoder()\n",
    "test['Sex'] = enc.fit_transform(test['Sex'])\n",
    "test['Sex'].fillna(0, inplace=True)\n",
    "test['Age'].fillna(0, inplace=True)\n",
    "test['Fare'].fillna(0, inplace=True)\n",
    "test['Age'] = StandardScaler().fit_transform(test['Age'].values.reshape(-1, 1))\n",
    "test['Fare'] = StandardScaler().fit_transform(test['Fare'].values.reshape(-1, 1))"
   ]
  },
  {
   "cell_type": "code",
   "execution_count": 6,
   "metadata": {},
   "outputs": [],
   "source": [
    "\n",
    "test_predictions = clf.predict(test)\n",
    "\n",
    "test_predictions = test_predictions.reshape(-1, 1)\n",
    "\n",
    "combined = np.column_stack((passengerId,test_predictions))\n",
    "df = pd.DataFrame(combined, columns=[\"PassengerId\", \"Survived\"])"
   ]
  },
  {
   "cell_type": "code",
   "execution_count": 7,
   "metadata": {
    "collapsed": true
   },
   "outputs": [],
   "source": [
    "df.to_csv('answers3.csv',index=False)"
   ]
  },
  {
   "cell_type": "code",
   "execution_count": null,
   "metadata": {
    "collapsed": true
   },
   "outputs": [],
   "source": []
  }
 ],
 "metadata": {
  "kernelspec": {
   "display_name": "Python 3",
   "language": "python",
   "name": "python3"
  },
  "language_info": {
   "codemirror_mode": {
    "name": "ipython",
    "version": 3
   },
   "file_extension": ".py",
   "mimetype": "text/x-python",
   "name": "python",
   "nbconvert_exporter": "python",
   "pygments_lexer": "ipython3",
   "version": "3.6.1"
  }
 },
 "nbformat": 4,
 "nbformat_minor": 2
}
