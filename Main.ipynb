{
 "cells": [
  {
   "cell_type": "code",
   "execution_count": 2,
   "metadata": {},
   "outputs": [],
   "source": [
    "import pandas as pd\n",
    "import numpy as np\n",
    "from sklearn.preprocessing import OneHotEncoder, LabelEncoder, StandardScaler \n",
    "from sklearn.decomposition import PCA\n",
    "from sklearn.svm import SVC\n",
    "from sklearn.metrics import accuracy_score\n",
    "import plotly\n",
    "from plotly.graph_objs import *\n",
    "import plotly.figure_factory as ff"
   ]
  },
  {
   "cell_type": "code",
   "execution_count": 25,
   "metadata": {},
   "outputs": [
    {
     "ename": "SyntaxError",
     "evalue": "invalid syntax (<ipython-input-25-4dc4bae13a7a>, line 25)",
     "output_type": "error",
     "traceback": [
      "\u001b[0;36m  File \u001b[0;32m\"<ipython-input-25-4dc4bae13a7a>\"\u001b[0;36m, line \u001b[0;32m25\u001b[0m\n\u001b[0;31m    return dataframe, survived\u001b[0m\n\u001b[0m         ^\u001b[0m\n\u001b[0;31mSyntaxError\u001b[0m\u001b[0;31m:\u001b[0m invalid syntax\n"
     ]
    }
   ],
   "source": [
    "# import data \n",
    "test = pd.read_csv('include/test.csv')\n",
    "train = pd.read_csv('include/train.csv')\n",
    "\n",
    "\n",
    "def preprocess_data(dataframe):\n",
    "    # drop unneeded columns\n",
    "    dataframe.drop(dataframe.columns[[0, 3, 8, 10, 11]], axis=1, inplace=True)\n",
    "    # Get cabin letter \n",
    "#     cabins = ['A', 'B', 'C', 'D', 'E', 'F', 'T', 'G']\n",
    "#     dataframe['Cabin'] = dataframe['Cabin'].map(lambda x: substrings_in_string(x, cabins))\n",
    "#     print(dataframe.shape[0] - dataframe.dropna().shape[0])\n",
    "    enc = LabelEncoder()\n",
    "# #     dataframe['Cabin'] = enc.fit_transform(dataframe['Cabin'])\n",
    "    dataframe['Sex'] = enc.fit_transform(dataframe['Sex'])\n",
    "#     dataframe['Sex'].fillna(0, inplace=True)\n",
    "#     dataframe['Age'].fillna(0, inplace=True)\n",
    "    print(dataframe.shape)\n",
    "    dataframe.dropna(inplace=True)\n",
    "    survived = dataframe['Survived']\n",
    "    dataframe.drop(['Survived'], axis=1, inplace=True)\n",
    "    hot = OneHotEncoder()\n",
    "    print(hot.fit_transform(dataframe['Sex'].values.reshape(-1,1))\n",
    "#     dataframe.drop(['Survived'], axis=1, inplace=True)\n",
    "    return dataframe, survived\n",
    "    \n",
    "    \n",
    "# taken from \n",
    "# https://triangleinequality.wordpress.com/2013/09/08/basic-feature-engineering-with-the-titanic-data/\n",
    "def substrings_in_string(big_string, substrings):\n",
    "    for substring in substrings:\n",
    "        if str(big_string).find(substring) != -1:\n",
    "            return substring\n",
    "    return np.nan\n",
    "\n",
    "train, survived = preprocess_data(train)\n",
    "train['Age'] = StandardScaler().fit_transform(train['Age'].values.reshape(-1, 1))\n",
    "train['Fare'] = StandardScaler().fit_transform(train['Fare'].values.reshape(-1, 1))\n",
    "print(train)"
   ]
  },
  {
   "cell_type": "code",
   "execution_count": 11,
   "metadata": {},
   "outputs": [
    {
     "name": "stdout",
     "output_type": "stream",
     "text": [
      "(714, 6)\n",
      "(714,)\n"
     ]
    },
    {
     "data": {
      "text/plain": [
       "SVC(C=1.0, cache_size=200, class_weight=None, coef0=0.0,\n",
       "  decision_function_shape=None, degree=3, gamma='auto', kernel='rbf',\n",
       "  max_iter=-1, probability=False, random_state=None, shrinking=True,\n",
       "  tol=0.001, verbose=False)"
      ]
     },
     "execution_count": 11,
     "metadata": {},
     "output_type": "execute_result"
    }
   ],
   "source": [
    "print(train.shape)\n",
    "print(survived.shape)\n",
    "clf = SVC()\n",
    "clf.fit(train, survived)\n",
    "# predictions = clf.predict(train[:600])\n",
    "# accuracy = accuracy_score(survived[:600], predictions)\n",
    "# print(accuracy)"
   ]
  },
  {
   "cell_type": "code",
   "execution_count": 12,
   "metadata": {},
   "outputs": [],
   "source": [
    "passengerId = test['PassengerId']\n",
    "test.drop(test.columns[[0, 2, 7, 9, 10]], axis=1, inplace=True)"
   ]
  },
  {
   "cell_type": "code",
   "execution_count": 26,
   "metadata": {},
   "outputs": [
    {
     "name": "stdout",
     "output_type": "stream",
     "text": [
      "PassengerId    1100.500000\n",
      "Pclass            2.265550\n",
      "Age              30.272590\n",
      "SibSp             0.447368\n",
      "Parch             0.392344\n",
      "Fare             35.627188\n",
      "dtype: float64\n"
     ]
    }
   ],
   "source": [
    "\n",
    "test.fillna(test.mean(), inplace=True)"
   ]
  },
  {
   "cell_type": "code",
   "execution_count": 14,
   "metadata": {},
   "outputs": [],
   "source": [
    "# preprocess test data\n",
    "enc = LabelEncoder()\n",
    "test['Sex'] = enc.fit_transform(test['Sex'])\n",
    "test['Age'] = StandardScaler().fit_transform(test['Age'].values.reshape(-1, 1))\n",
    "test['Fare'] = StandardScaler().fit_transform(test['Fare'].values.reshape(-1, 1))"
   ]
  },
  {
   "cell_type": "code",
   "execution_count": 15,
   "metadata": {},
   "outputs": [],
   "source": [
    "\n",
    "test_predictions = clf.predict(test)\n",
    "\n",
    "test_predictions = test_predictions.reshape(-1, 1)\n",
    "\n",
    "combined = np.column_stack((passengerId,test_predictions))\n",
    "df = pd.DataFrame(combined, columns=[\"PassengerId\", \"Survived\"])"
   ]
  },
  {
   "cell_type": "code",
   "execution_count": 16,
   "metadata": {
    "collapsed": true
   },
   "outputs": [],
   "source": [
    "df.to_csv('csv/answers_svc.csv',index=False)"
   ]
  },
  {
   "cell_type": "code",
   "execution_count": null,
   "metadata": {
    "collapsed": true
   },
   "outputs": [],
   "source": []
  }
 ],
 "metadata": {
  "kernelspec": {
   "display_name": "Python 3",
   "language": "python",
   "name": "python3"
  },
  "language_info": {
   "codemirror_mode": {
    "name": "ipython",
    "version": 3
   },
   "file_extension": ".py",
   "mimetype": "text/x-python",
   "name": "python",
   "nbconvert_exporter": "python",
   "pygments_lexer": "ipython3",
   "version": "3.6.1"
  }
 },
 "nbformat": 4,
 "nbformat_minor": 2
}
