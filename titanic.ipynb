{
 "cells": [
  {
   "cell_type": "code",
   "execution_count": 1,
   "metadata": {},
   "outputs": [],
   "source": [
    "import numpy as np\n",
    "import pandas as pd\n",
    "from sklearn.preprocessing import LabelEncoder, Imputer\n",
    "from sklearn.neighbors import KNeighborsClassifier\n",
    "from fancyimpute import KNN"
   ]
  },
  {
   "cell_type": "code",
   "execution_count": 2,
   "metadata": {},
   "outputs": [
    {
     "name": "stdout",
     "output_type": "stream",
     "text": [
      "       PassengerId    Survived      Pclass         Age       SibSp  \\\n",
      "count   183.000000  183.000000  183.000000  183.000000  183.000000   \n",
      "mean    455.366120    0.672131    1.191257   35.674426    0.464481   \n",
      "std     247.052476    0.470725    0.515187   15.643866    0.644159   \n",
      "min       2.000000    0.000000    1.000000    0.920000    0.000000   \n",
      "25%     263.500000    0.000000    1.000000   24.000000    0.000000   \n",
      "50%     457.000000    1.000000    1.000000   36.000000    0.000000   \n",
      "75%     676.000000    1.000000    1.000000   47.500000    1.000000   \n",
      "max     890.000000    1.000000    3.000000   80.000000    3.000000   \n",
      "\n",
      "            Parch        Fare  \n",
      "count  183.000000  183.000000  \n",
      "mean     0.475410   78.682469  \n",
      "std      0.754617   76.347843  \n",
      "min      0.000000    0.000000  \n",
      "25%      0.000000   29.700000  \n",
      "50%      0.000000   57.000000  \n",
      "75%      1.000000   90.000000  \n",
      "max      4.000000  512.329200  \n"
     ]
    }
   ],
   "source": [
    "test = pd.read_csv('include/test.csv')\n",
    "train = pd.read_csv('include/train.csv').dropna()\n",
    "print(train.describe())"
   ]
  },
  {
   "cell_type": "code",
   "execution_count": 3,
   "metadata": {},
   "outputs": [],
   "source": [
    "def substrings_in_string(big_string, substrings):\n",
    "    for substring in substrings:\n",
    "        if str(big_string).find(substring) != -1:\n",
    "            return substring\n",
    "    return ''"
   ]
  },
  {
   "cell_type": "code",
   "execution_count": 4,
   "metadata": {},
   "outputs": [
    {
     "name": "stdout",
     "output_type": "stream",
     "text": [
      "    Survived  Pclass  Sex   Age  Fare_Per_Person\n",
      "1          1       1    0  38.0        35.641650\n",
      "3          1       1    0  35.0        26.550000\n",
      "6          0       1    1  54.0        51.862500\n",
      "10         1       3    0   4.0         5.566667\n",
      "11         1       1    0  58.0        26.550000\n"
     ]
    }
   ],
   "source": [
    "train_reformated = train.drop(['PassengerId', 'Name', 'Ticket', 'Cabin'], axis=1)\n",
    "cabin_list = ['A', 'B', 'C', 'D', 'E', 'F', 'T', 'G', 'Unknown']\n",
    "train_reformated['Deck'] = train['Cabin'].map(lambda x: substrings_in_string(x, cabin_list))\n",
    "train_reformated['Family_Size'] = train_reformated['SibSp'] + train_reformated['Parch']\n",
    "train_reformated['Fare_Per_Person'] = train_reformated['Fare'] /(train_reformated['Family_Size'] + 1)\n",
    "\n",
    "train_reformated['Sex'] =  LabelEncoder().fit_transform(train_reformated['Sex'])\n",
    "train_reformated['Embarked'] = LabelEncoder().fit_transform(train_reformated['Embarked'])\n",
    "train_reformated['Deck'] = LabelEncoder().fit_transform(train_reformated['Deck'])\n",
    "train_reformated.drop(['Fare', 'Embarked', 'Family_Size', 'Parch', 'SibSp', 'Deck'], axis=1, inplace=True)\n",
    "print(train_reformated.head())"
   ]
  },
  {
   "cell_type": "code",
   "execution_count": 5,
   "metadata": {},
   "outputs": [
    {
     "data": {
      "text/plain": [
       "KNeighborsClassifier(algorithm='auto', leaf_size=30, metric='minkowski',\n",
       "           metric_params=None, n_jobs=1, n_neighbors=5, p=2,\n",
       "           weights='uniform')"
      ]
     },
     "execution_count": 5,
     "metadata": {},
     "output_type": "execute_result"
    }
   ],
   "source": [
    "clf = KNeighborsClassifier()\n",
    "clf.fit(train_reformated.loc[:, train_reformated.columns != 'Survived'], train_reformated['Survived'])"
   ]
  },
  {
   "cell_type": "code",
   "execution_count": 6,
   "metadata": {},
   "outputs": [
    {
     "name": "stdout",
     "output_type": "stream",
     "text": [
      "   Pclass  Sex   Age  Fare_Per_Person\n",
      "0       3    1  34.5         7.829200\n",
      "1       3    0  47.0         3.500000\n",
      "2       2    1  62.0         9.687500\n",
      "3       3    1  27.0         8.662500\n",
      "4       3    0  22.0         4.095833\n",
      "0.20813397129186603\n"
     ]
    }
   ],
   "source": [
    "test_passengerId = test['PassengerId']\n",
    "test_reformated = test.drop(['PassengerId', 'Name', 'Ticket', 'Cabin'], axis=1)\n",
    "cabin_list = ['A', 'B', 'C', 'D', 'E', 'F', 'T', 'G', 'Unknown']\n",
    "test_reformated['Deck'] = test['Cabin'].map(lambda x: substrings_in_string(x, cabin_list))\n",
    "test_reformated['Family_Size'] = test_reformated['SibSp'] + test_reformated['Parch']\n",
    "test_reformated['Fare_Per_Person'] = test_reformated['Fare'] /(test_reformated['Family_Size'] + 1)\n",
    "\n",
    "test_reformated['Sex'] =  LabelEncoder().fit_transform(test_reformated['Sex'])\n",
    "test_reformated['Embarked'] = LabelEncoder().fit_transform(test_reformated['Embarked'])\n",
    "test_reformated['Deck'] = LabelEncoder().fit_transform(test_reformated['Deck'])\n",
    "test_reformated.drop(['SibSp', 'Parch', 'Fare', 'Embarked', 'Family_Size', 'Deck'], axis=1, inplace=True)\n",
    "print(test_reformated.head())\n",
    "print(test_reformated.isnull().sum().sum() / test_reformated.shape[0])"
   ]
  },
  {
   "cell_type": "code",
   "execution_count": 7,
   "metadata": {},
   "outputs": [
    {
     "name": "stdout",
     "output_type": "stream",
     "text": [
      "['Age', 'Fare_Per_Person']\n",
      "Imputing row 1/418 with 0 missing, elapsed time: 0.030\n",
      "Imputing row 101/418 with 0 missing, elapsed time: 0.078\n",
      "Imputing row 201/418 with 1 missing, elapsed time: 0.079\n",
      "Imputing row 301/418 with 0 missing, elapsed time: 0.081\n",
      "Imputing row 401/418 with 0 missing, elapsed time: 0.082\n"
     ]
    }
   ],
   "source": [
    "print(test_reformated.columns[test_reformated.isnull().any()].tolist())\n",
    "test_reformated_filled = KNN(k=3).complete(test_reformated)\n",
    "\n",
    "test_predictions = clf.predict(test_reformated_filled).reshape(-1, 1)\n",
    "\n",
    "combined = np.column_stack((test_passengerId, test_predictions))\n",
    "df = pd.DataFrame(combined, columns=[\"PassengerId\", \"Survived\"])"
   ]
  },
  {
   "cell_type": "code",
   "execution_count": 8,
   "metadata": {},
   "outputs": [],
   "source": [
    "df.to_csv('csv/answers17.csv',index=False)"
   ]
  },
  {
   "cell_type": "code",
   "execution_count": 9,
   "metadata": {},
   "outputs": [
    {
     "name": "stdout",
     "output_type": "stream",
     "text": [
      "PassengerId      0\n",
      "Pclass           0\n",
      "Name             0\n",
      "Sex              0\n",
      "Age             86\n",
      "SibSp            0\n",
      "Parch            0\n",
      "Ticket           0\n",
      "Fare             1\n",
      "Cabin          327\n",
      "Embarked         0\n",
      "dtype: int64\n"
     ]
    }
   ],
   "source": [
    "print(test.isnull().sum())\n"
   ]
  },
  {
   "cell_type": "code",
   "execution_count": null,
   "metadata": {},
   "outputs": [],
   "source": []
  }
 ],
 "metadata": {
  "kernelspec": {
   "display_name": "Python 3",
   "language": "python",
   "name": "python3"
  },
  "language_info": {
   "codemirror_mode": {
    "name": "ipython",
    "version": 3
   },
   "file_extension": ".py",
   "mimetype": "text/x-python",
   "name": "python",
   "nbconvert_exporter": "python",
   "pygments_lexer": "ipython3",
   "version": "3.6.1"
  }
 },
 "nbformat": 4,
 "nbformat_minor": 2
}
