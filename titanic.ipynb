{
 "cells": [
  {
   "cell_type": "code",
   "execution_count": 1,
   "metadata": {},
   "outputs": [],
   "source": [
    "import numpy as np\n",
    "import pandas as pd\n",
    "from sklearn.preprocessing import LabelEncoder\n",
    "from sklearn.ensemble import RandomForestClassifier"
   ]
  },
  {
   "cell_type": "code",
   "execution_count": 2,
   "metadata": {},
   "outputs": [],
   "source": [
    "test = pd.read_csv('include/test.csv')\n",
    "train = pd.read_csv('include/train.csv').dropna()"
   ]
  },
  {
   "cell_type": "code",
   "execution_count": 3,
   "metadata": {},
   "outputs": [],
   "source": [
    "def substrings_in_string(big_string, substrings):\n",
    "    for substring in substrings:\n",
    "        if str(big_string).find(substring) != -1:\n",
    "            return substring\n",
    "    return ''"
   ]
  },
  {
   "cell_type": "code",
   "execution_count": 4,
   "metadata": {},
   "outputs": [
    {
     "name": "stdout",
     "output_type": "stream",
     "text": [
      "    Survived  Pclass  Sex   Age  SibSp  Parch     Fare  Embarked  Deck  \\\n",
      "1          1       1    0  38.0      1      0  71.2833         0     2   \n",
      "3          1       1    0  35.0      1      0  53.1000         2     2   \n",
      "6          0       1    1  54.0      0      0  51.8625         2     4   \n",
      "10         1       3    0   4.0      1      1  16.7000         2     6   \n",
      "11         1       1    0  58.0      0      0  26.5500         2     2   \n",
      "\n",
      "    Family_Size  Fare_Per_Person  \n",
      "1             1        35.641650  \n",
      "3             1        26.550000  \n",
      "6             0        51.862500  \n",
      "10            2         5.566667  \n",
      "11            0        26.550000  \n"
     ]
    }
   ],
   "source": [
    "train_reformated = train.drop(['PassengerId', 'Name', 'Ticket', 'Cabin'], axis=1)\n",
    "cabin_list = ['A', 'B', 'C', 'D', 'E', 'F', 'T', 'G', 'Unknown']\n",
    "train_reformated['Deck'] = train['Cabin'].map(lambda x: substrings_in_string(x, cabin_list))\n",
    "train_reformated['Family_Size'] = train_reformated['SibSp'] + train_reformated['Parch']\n",
    "train_reformated['Fare_Per_Person'] = train_reformated['Fare'] /(train_reformated['Family_Size'] + 1)\n",
    "\n",
    "train_reformated['Sex'] =  LabelEncoder().fit_transform(train_reformated['Sex'])\n",
    "train_reformated['Embarked'] = LabelEncoder().fit_transform(train_reformated['Embarked'])\n",
    "train_reformated['Deck'] = LabelEncoder().fit_transform(train_reformated['Deck'])\n",
    "print(train_reformated.head())"
   ]
  },
  {
   "cell_type": "code",
   "execution_count": 5,
   "metadata": {},
   "outputs": [
    {
     "name": "stdout",
     "output_type": "stream",
     "text": [
      "[ 0.00836482  0.24538938  0.1583901   0.02115705  0.01052946  0.23505852\n",
      "  0.01237421  0.11293827  0.03005173  0.16574646]\n"
     ]
    }
   ],
   "source": [
    "clf = RandomForestClassifier()\n",
    "clf.fit(train_reformated.loc[:, train_reformated.columns != 'Survived'], train_reformated['Survived'])\n",
    "print(clf.feature_importances_)"
   ]
  },
  {
   "cell_type": "code",
   "execution_count": 6,
   "metadata": {},
   "outputs": [],
   "source": [
    "test_passengerId = test['PassengerId']\n",
    "test_reformated = test.drop(['PassengerId', 'Name', 'Ticket', 'Cabin'], axis=1)\n",
    "cabin_list = ['A', 'B', 'C', 'D', 'E', 'F', 'T', 'G', 'Unknown']\n",
    "test_reformated['Deck'] = test['Cabin'].map(lambda x: substrings_in_string(x, cabin_list))\n",
    "test_reformated['Family_Size'] = test_reformated['SibSp'] + test_reformated['Parch']\n",
    "test_reformated['Fare_Per_Person'] = test_reformated['Fare'] /(test_reformated['Family_Size'] + 1)\n",
    "\n",
    "test_reformated['Sex'] =  LabelEncoder().fit_transform(test_reformated['Sex'])\n",
    "test_reformated['Embarked'] = LabelEncoder().fit_transform(test_reformated['Embarked'])\n",
    "test_reformated['Deck'] = LabelEncoder().fit_transform(test_reformated['Deck'])"
   ]
  },
  {
   "cell_type": "code",
   "execution_count": 7,
   "metadata": {},
   "outputs": [
    {
     "name": "stdout",
     "output_type": "stream",
     "text": [
      "['Age', 'Fare', 'Fare_Per_Person']\n"
     ]
    }
   ],
   "source": [
    "print(test_reformated.columns[test_reformated.isnull().any()].tolist())\n",
    "test_reformated = test_reformated.fillna(test_reformated.mean())\n",
    "\n",
    "test_predictions = clf.predict(test_reformated).reshape(-1, 1)\n",
    "\n",
    "combined = np.column_stack((test_passengerId, test_predictions))\n",
    "df = pd.DataFrame(combined, columns=[\"PassengerId\", \"Survived\"])"
   ]
  },
  {
   "cell_type": "code",
   "execution_count": 8,
   "metadata": {},
   "outputs": [],
   "source": [
    "df.to_csv('csv/answers_after_prepro.csv',index=False)"
   ]
  },
  {
   "cell_type": "code",
   "execution_count": null,
   "metadata": {},
   "outputs": [],
   "source": []
  }
 ],
 "metadata": {
  "kernelspec": {
   "display_name": "Python 3",
   "language": "python",
   "name": "python3"
  },
  "language_info": {
   "codemirror_mode": {
    "name": "ipython",
    "version": 3
   },
   "file_extension": ".py",
   "mimetype": "text/x-python",
   "name": "python",
   "nbconvert_exporter": "python",
   "pygments_lexer": "ipython3",
   "version": "3.6.1"
  }
 },
 "nbformat": 4,
 "nbformat_minor": 2
}
