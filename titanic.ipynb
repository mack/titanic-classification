{
 "cells": [
  {
   "cell_type": "code",
   "execution_count": 1,
   "metadata": {},
   "outputs": [],
   "source": [
    "import numpy as np\n",
    "import pandas as pd\n",
    "from sklearn.preprocessing import LabelEncoder\n",
    "from sklearn.naive_bayes import BernoulliNB"
   ]
  },
  {
   "cell_type": "code",
   "execution_count": 2,
   "metadata": {},
   "outputs": [],
   "source": [
    "test = pd.read_csv('include/test.csv')\n",
    "train = pd.read_csv('include/train.csv').dropna()"
   ]
  },
  {
   "cell_type": "code",
   "execution_count": 3,
   "metadata": {},
   "outputs": [],
   "source": [
    "def substrings_in_string(big_string, substrings):\n",
    "    for substring in substrings:\n",
    "        if str(big_string).find(substring) != -1:\n",
    "            return substring\n",
    "    return ''"
   ]
  },
  {
   "cell_type": "code",
   "execution_count": 4,
   "metadata": {},
   "outputs": [
    {
     "name": "stdout",
     "output_type": "stream",
     "text": [
      "    Survived  Pclass  Sex   Age  Fare_Per_Person\n",
      "1          1       1    0  38.0        35.641650\n",
      "3          1       1    0  35.0        26.550000\n",
      "6          0       1    1  54.0        51.862500\n",
      "10         1       3    0   4.0         5.566667\n",
      "11         1       1    0  58.0        26.550000\n"
     ]
    }
   ],
   "source": [
    "train_reformated = train.drop(['PassengerId', 'Name', 'Ticket', 'Cabin'], axis=1)\n",
    "cabin_list = ['A', 'B', 'C', 'D', 'E', 'F', 'T', 'G', 'Unknown']\n",
    "train_reformated['Deck'] = train['Cabin'].map(lambda x: substrings_in_string(x, cabin_list))\n",
    "train_reformated['Family_Size'] = train_reformated['SibSp'] + train_reformated['Parch']\n",
    "train_reformated['Fare_Per_Person'] = train_reformated['Fare'] /(train_reformated['Family_Size'] + 1)\n",
    "\n",
    "train_reformated['Sex'] =  LabelEncoder().fit_transform(train_reformated['Sex'])\n",
    "train_reformated['Embarked'] = LabelEncoder().fit_transform(train_reformated['Embarked'])\n",
    "train_reformated['Deck'] = LabelEncoder().fit_transform(train_reformated['Deck'])\n",
    "train_reformated.drop(['Fare', 'Embarked', 'Family_Size', 'Parch', 'SibSp', 'Deck'], axis=1, inplace=True)\n",
    "print(train_reformated.head())"
   ]
  },
  {
   "cell_type": "code",
   "execution_count": 5,
   "metadata": {},
   "outputs": [
    {
     "data": {
      "text/plain": [
       "BernoulliNB(alpha=1.0, binarize=0.0, class_prior=None, fit_prior=True)"
      ]
     },
     "execution_count": 5,
     "metadata": {},
     "output_type": "execute_result"
    }
   ],
   "source": [
    "clf = BernoulliNB()\n",
    "clf.fit(train_reformated.loc[:, train_reformated.columns != 'Survived'], train_reformated['Survived'])"
   ]
  },
  {
   "cell_type": "code",
   "execution_count": 6,
   "metadata": {},
   "outputs": [
    {
     "name": "stdout",
     "output_type": "stream",
     "text": [
      "   Pclass  Sex   Age  Fare_Per_Person\n",
      "0       3    1  34.5         7.829200\n",
      "1       3    0  47.0         3.500000\n",
      "2       2    1  62.0         9.687500\n",
      "3       3    1  27.0         8.662500\n",
      "4       3    0  22.0         4.095833\n"
     ]
    }
   ],
   "source": [
    "test_passengerId = test['PassengerId']\n",
    "test_reformated = test.drop(['PassengerId', 'Name', 'Ticket', 'Cabin'], axis=1)\n",
    "cabin_list = ['A', 'B', 'C', 'D', 'E', 'F', 'T', 'G', 'Unknown']\n",
    "test_reformated['Deck'] = test['Cabin'].map(lambda x: substrings_in_string(x, cabin_list))\n",
    "test_reformated['Family_Size'] = test_reformated['SibSp'] + test_reformated['Parch']\n",
    "test_reformated['Fare_Per_Person'] = test_reformated['Fare'] /(test_reformated['Family_Size'] + 1)\n",
    "\n",
    "test_reformated['Sex'] =  LabelEncoder().fit_transform(test_reformated['Sex'])\n",
    "test_reformated['Embarked'] = LabelEncoder().fit_transform(test_reformated['Embarked'])\n",
    "test_reformated['Deck'] = LabelEncoder().fit_transform(test_reformated['Deck'])\n",
    "test_reformated.drop(['SibSp', 'Parch', 'Fare', 'Embarked', 'Family_Size', 'Deck'], axis=1, inplace=True)\n",
    "print(test_reformated.head())"
   ]
  },
  {
   "cell_type": "code",
   "execution_count": 7,
   "metadata": {},
   "outputs": [
    {
     "name": "stdout",
     "output_type": "stream",
     "text": [
      "['Age', 'Fare_Per_Person']\n"
     ]
    }
   ],
   "source": [
    "print(test_reformated.columns[test_reformated.isnull().any()].tolist())\n",
    "test_reformated = test_reformated.fillna(test_reformated.mean())\n",
    "\n",
    "test_predictions = clf.predict(test_reformated).reshape(-1, 1)\n",
    "\n",
    "combined = np.column_stack((test_passengerId, test_predictions))\n",
    "df = pd.DataFrame(combined, columns=[\"PassengerId\", \"Survived\"])"
   ]
  },
  {
   "cell_type": "code",
   "execution_count": 8,
   "metadata": {},
   "outputs": [],
   "source": [
    "df.to_csv('csv/answers10.csv',index=False)"
   ]
  },
  {
   "cell_type": "code",
   "execution_count": 9,
   "metadata": {},
   "outputs": [
    {
     "name": "stdout",
     "output_type": "stream",
     "text": [
      "<bound method NDFrame.head of      PassengerId  Pclass                                               Name  \\\n",
      "0            892       3                                   Kelly, Mr. James   \n",
      "1            893       3                   Wilkes, Mrs. James (Ellen Needs)   \n",
      "2            894       2                          Myles, Mr. Thomas Francis   \n",
      "3            895       3                                   Wirz, Mr. Albert   \n",
      "4            896       3       Hirvonen, Mrs. Alexander (Helga E Lindqvist)   \n",
      "5            897       3                         Svensson, Mr. Johan Cervin   \n",
      "6            898       3                               Connolly, Miss. Kate   \n",
      "7            899       2                       Caldwell, Mr. Albert Francis   \n",
      "8            900       3          Abrahim, Mrs. Joseph (Sophie Halaut Easu)   \n",
      "9            901       3                            Davies, Mr. John Samuel   \n",
      "10           902       3                                   Ilieff, Mr. Ylio   \n",
      "11           903       1                         Jones, Mr. Charles Cresson   \n",
      "12           904       1      Snyder, Mrs. John Pillsbury (Nelle Stevenson)   \n",
      "13           905       2                               Howard, Mr. Benjamin   \n",
      "14           906       1  Chaffee, Mrs. Herbert Fuller (Carrie Constance...   \n",
      "15           907       2      del Carlo, Mrs. Sebastiano (Argenia Genovesi)   \n",
      "16           908       2                                  Keane, Mr. Daniel   \n",
      "17           909       3                                  Assaf, Mr. Gerios   \n",
      "18           910       3                       Ilmakangas, Miss. Ida Livija   \n",
      "19           911       3              Assaf Khalil, Mrs. Mariana (Miriam\")\"   \n",
      "20           912       1                             Rothschild, Mr. Martin   \n",
      "21           913       3                          Olsen, Master. Artur Karl   \n",
      "22           914       1               Flegenheim, Mrs. Alfred (Antoinette)   \n",
      "23           915       1                    Williams, Mr. Richard Norris II   \n",
      "24           916       1    Ryerson, Mrs. Arthur Larned (Emily Maria Borie)   \n",
      "25           917       3                            Robins, Mr. Alexander A   \n",
      "26           918       1                       Ostby, Miss. Helene Ragnhild   \n",
      "27           919       3                                  Daher, Mr. Shedid   \n",
      "28           920       1                            Brady, Mr. John Bertram   \n",
      "29           921       3                                  Samaan, Mr. Elias   \n",
      "..           ...     ...                                                ...   \n",
      "388         1280       3                               Canavan, Mr. Patrick   \n",
      "389         1281       3                        Palsson, Master. Paul Folke   \n",
      "390         1282       1                         Payne, Mr. Vivian Ponsonby   \n",
      "391         1283       1     Lines, Mrs. Ernest H (Elizabeth Lindsey James)   \n",
      "392         1284       3                      Abbott, Master. Eugene Joseph   \n",
      "393         1285       2                               Gilbert, Mr. William   \n",
      "394         1286       3                           Kink-Heilmann, Mr. Anton   \n",
      "395         1287       1     Smith, Mrs. Lucien Philip (Mary Eloise Hughes)   \n",
      "396         1288       3                               Colbert, Mr. Patrick   \n",
      "397         1289       1  Frolicher-Stehli, Mrs. Maxmillian (Margaretha ...   \n",
      "398         1290       3                     Larsson-Rondberg, Mr. Edvard A   \n",
      "399         1291       3                           Conlon, Mr. Thomas Henry   \n",
      "400         1292       1                            Bonnell, Miss. Caroline   \n",
      "401         1293       2                                    Gale, Mr. Harry   \n",
      "402         1294       1                     Gibson, Miss. Dorothy Winifred   \n",
      "403         1295       1                             Carrau, Mr. Jose Pedro   \n",
      "404         1296       1                       Frauenthal, Mr. Isaac Gerald   \n",
      "405         1297       2       Nourney, Mr. Alfred (Baron von Drachstedt\")\"   \n",
      "406         1298       2                          Ware, Mr. William Jeffery   \n",
      "407         1299       1                         Widener, Mr. George Dunton   \n",
      "408         1300       3                    Riordan, Miss. Johanna Hannah\"\"   \n",
      "409         1301       3                          Peacock, Miss. Treasteall   \n",
      "410         1302       3                             Naughton, Miss. Hannah   \n",
      "411         1303       1    Minahan, Mrs. William Edward (Lillian E Thorpe)   \n",
      "412         1304       3                     Henriksson, Miss. Jenny Lovisa   \n",
      "413         1305       3                                 Spector, Mr. Woolf   \n",
      "414         1306       1                       Oliva y Ocana, Dona. Fermina   \n",
      "415         1307       3                       Saether, Mr. Simon Sivertsen   \n",
      "416         1308       3                                Ware, Mr. Frederick   \n",
      "417         1309       3                           Peter, Master. Michael J   \n",
      "\n",
      "        Sex   Age  SibSp  Parch              Ticket      Fare  \\\n",
      "0      male  34.5      0      0              330911    7.8292   \n",
      "1    female  47.0      1      0              363272    7.0000   \n",
      "2      male  62.0      0      0              240276    9.6875   \n",
      "3      male  27.0      0      0              315154    8.6625   \n",
      "4    female  22.0      1      1             3101298   12.2875   \n",
      "5      male  14.0      0      0                7538    9.2250   \n",
      "6    female  30.0      0      0              330972    7.6292   \n",
      "7      male  26.0      1      1              248738   29.0000   \n",
      "8    female  18.0      0      0                2657    7.2292   \n",
      "9      male  21.0      2      0           A/4 48871   24.1500   \n",
      "10     male   NaN      0      0              349220    7.8958   \n",
      "11     male  46.0      0      0                 694   26.0000   \n",
      "12   female  23.0      1      0               21228   82.2667   \n",
      "13     male  63.0      1      0               24065   26.0000   \n",
      "14   female  47.0      1      0         W.E.P. 5734   61.1750   \n",
      "15   female  24.0      1      0       SC/PARIS 2167   27.7208   \n",
      "16     male  35.0      0      0              233734   12.3500   \n",
      "17     male  21.0      0      0                2692    7.2250   \n",
      "18   female  27.0      1      0    STON/O2. 3101270    7.9250   \n",
      "19   female  45.0      0      0                2696    7.2250   \n",
      "20     male  55.0      1      0            PC 17603   59.4000   \n",
      "21     male   9.0      0      1             C 17368    3.1708   \n",
      "22   female   NaN      0      0            PC 17598   31.6833   \n",
      "23     male  21.0      0      1            PC 17597   61.3792   \n",
      "24   female  48.0      1      3            PC 17608  262.3750   \n",
      "25     male  50.0      1      0           A/5. 3337   14.5000   \n",
      "26   female  22.0      0      1              113509   61.9792   \n",
      "27     male  22.5      0      0                2698    7.2250   \n",
      "28     male  41.0      0      0              113054   30.5000   \n",
      "29     male   NaN      2      0                2662   21.6792   \n",
      "..      ...   ...    ...    ...                 ...       ...   \n",
      "388    male  21.0      0      0              364858    7.7500   \n",
      "389    male   6.0      3      1              349909   21.0750   \n",
      "390    male  23.0      0      0               12749   93.5000   \n",
      "391  female  51.0      0      1            PC 17592   39.4000   \n",
      "392    male  13.0      0      2           C.A. 2673   20.2500   \n",
      "393    male  47.0      0      0          C.A. 30769   10.5000   \n",
      "394    male  29.0      3      1              315153   22.0250   \n",
      "395  female  18.0      1      0               13695   60.0000   \n",
      "396    male  24.0      0      0              371109    7.2500   \n",
      "397  female  48.0      1      1               13567   79.2000   \n",
      "398    male  22.0      0      0              347065    7.7750   \n",
      "399    male  31.0      0      0               21332    7.7333   \n",
      "400  female  30.0      0      0               36928  164.8667   \n",
      "401    male  38.0      1      0               28664   21.0000   \n",
      "402  female  22.0      0      1              112378   59.4000   \n",
      "403    male  17.0      0      0              113059   47.1000   \n",
      "404    male  43.0      1      0               17765   27.7208   \n",
      "405    male  20.0      0      0       SC/PARIS 2166   13.8625   \n",
      "406    male  23.0      1      0               28666   10.5000   \n",
      "407    male  50.0      1      1              113503  211.5000   \n",
      "408  female   NaN      0      0              334915    7.7208   \n",
      "409  female   3.0      1      1  SOTON/O.Q. 3101315   13.7750   \n",
      "410  female   NaN      0      0              365237    7.7500   \n",
      "411  female  37.0      1      0               19928   90.0000   \n",
      "412  female  28.0      0      0              347086    7.7750   \n",
      "413    male   NaN      0      0           A.5. 3236    8.0500   \n",
      "414  female  39.0      0      0            PC 17758  108.9000   \n",
      "415    male  38.5      0      0  SOTON/O.Q. 3101262    7.2500   \n",
      "416    male   NaN      0      0              359309    8.0500   \n",
      "417    male   NaN      1      1                2668   22.3583   \n",
      "\n",
      "               Cabin Embarked  \n",
      "0                NaN        Q  \n",
      "1                NaN        S  \n",
      "2                NaN        Q  \n",
      "3                NaN        S  \n",
      "4                NaN        S  \n",
      "5                NaN        S  \n",
      "6                NaN        Q  \n",
      "7                NaN        S  \n",
      "8                NaN        C  \n",
      "9                NaN        S  \n",
      "10               NaN        S  \n",
      "11               NaN        S  \n",
      "12               B45        S  \n",
      "13               NaN        S  \n",
      "14               E31        S  \n",
      "15               NaN        C  \n",
      "16               NaN        Q  \n",
      "17               NaN        C  \n",
      "18               NaN        S  \n",
      "19               NaN        C  \n",
      "20               NaN        C  \n",
      "21               NaN        S  \n",
      "22               NaN        S  \n",
      "23               NaN        C  \n",
      "24   B57 B59 B63 B66        C  \n",
      "25               NaN        S  \n",
      "26               B36        C  \n",
      "27               NaN        C  \n",
      "28               A21        S  \n",
      "29               NaN        C  \n",
      "..               ...      ...  \n",
      "388              NaN        Q  \n",
      "389              NaN        S  \n",
      "390              B24        S  \n",
      "391              D28        S  \n",
      "392              NaN        S  \n",
      "393              NaN        S  \n",
      "394              NaN        S  \n",
      "395              C31        S  \n",
      "396              NaN        Q  \n",
      "397              B41        C  \n",
      "398              NaN        S  \n",
      "399              NaN        Q  \n",
      "400               C7        S  \n",
      "401              NaN        S  \n",
      "402              NaN        C  \n",
      "403              NaN        S  \n",
      "404              D40        C  \n",
      "405              D38        C  \n",
      "406              NaN        S  \n",
      "407              C80        C  \n",
      "408              NaN        Q  \n",
      "409              NaN        S  \n",
      "410              NaN        Q  \n",
      "411              C78        Q  \n",
      "412              NaN        S  \n",
      "413              NaN        S  \n",
      "414             C105        C  \n",
      "415              NaN        S  \n",
      "416              NaN        S  \n",
      "417              NaN        C  \n",
      "\n",
      "[418 rows x 11 columns]>\n"
     ]
    }
   ],
   "source": [
    "print(test.head)"
   ]
  },
  {
   "cell_type": "code",
   "execution_count": null,
   "metadata": {},
   "outputs": [],
   "source": []
  }
 ],
 "metadata": {
  "kernelspec": {
   "display_name": "Python 3",
   "language": "python",
   "name": "python3"
  },
  "language_info": {
   "codemirror_mode": {
    "name": "ipython",
    "version": 3
   },
   "file_extension": ".py",
   "mimetype": "text/x-python",
   "name": "python",
   "nbconvert_exporter": "python",
   "pygments_lexer": "ipython3",
   "version": "3.6.1"
  }
 },
 "nbformat": 4,
 "nbformat_minor": 2
}
